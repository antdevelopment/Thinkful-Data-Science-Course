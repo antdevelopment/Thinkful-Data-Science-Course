{
 "cells": [
  {
   "cell_type": "markdown",
   "metadata": {},
   "source": [
    "### In each of the scenarios, find possible shortcomings of the data sources to answer the given question. What could be done to either adjust the analysis or reframe the question so that you can answer it accurately?"
   ]
  },
  {
   "cell_type": "code",
   "execution_count": 1,
   "metadata": {
    "collapsed": true
   },
   "outputs": [],
   "source": [
    "import pandas as pd\n",
    "import numpy as np"
   ]
  },
  {
   "cell_type": "markdown",
   "metadata": {},
   "source": [
    "#### Data Source: Amsterdam availability data scraped from AirBnB on December 24th. Question: What are the popular neighborhoods in Amsterdam?"
   ]
  },
  {
   "cell_type": "markdown",
   "metadata": {},
   "source": [
    "The shortcoming of this data source is that the data was pulled during Christmas, so a general central tendency and variance can't be measured. Additionally, AirBnB is too much of a biased sample because of the kinds of people who use the service will not be representative of a diverse population of locals and tourists, not to mention renters vs. buyers.\n",
    "\n",
    "The analysis can be changed to answer the question by also acquiring city-wide real estate/rental transactions.\n",
    "\n",
    "The analysis can answer of the question of the most popular Amsterdam neighborhoods on AirBnB during Christmas and possibly other holidays which cause people to engage the similar activities"
   ]
  },
  {
   "cell_type": "markdown",
   "metadata": {},
   "source": [
    "#### Data Source: Mental health services use on September 12, 2001 in San Francisco, CA and New York City, NY. Question: How do patterns of mental health service use vary between cities?"
   ]
  },
  {
   "cell_type": "markdown",
   "metadata": {},
   "source": [
    "The shortcoming of this data source is that a tramatizing event in NYC happened the day before which occurred before the nation's eyes. Additionally, these cities are not representative of cities throughout the nation because they are very metropolitan and have a geographically higher density of medical services.\n",
    "\n",
    "The analysis can be changed to include other major cities between the coasts in the data source and the records especially need to occur far away from national disasters.\n",
    "\n",
    "The question can be reframed to ask how did mental health services vary between a major city which was the victim and a major city exposed to footage."
   ]
  },
  {
   "cell_type": "markdown",
   "metadata": {},
   "source": [
    "#### Data Source: Armenian Pub Survey. Question: What are the most common reasons Armenians visit local pubs?"
   ]
  },
  {
   "cell_type": "markdown",
   "metadata": {},
   "source": [
    "The 1st red flag is that the survey was conducted by students and the title is referring to the whole country. We should look into the demographics they collected. In my experience students tend to investigate other students."
   ]
  },
  {
   "cell_type": "code",
   "execution_count": 2,
   "metadata": {
    "scrolled": true
   },
   "outputs": [
    {
     "data": {
      "text/html": [
       "<div>\n",
       "<style>\n",
       "    .dataframe thead tr:only-child th {\n",
       "        text-align: right;\n",
       "    }\n",
       "\n",
       "    .dataframe thead th {\n",
       "        text-align: left;\n",
       "    }\n",
       "\n",
       "    .dataframe tbody tr th {\n",
       "        vertical-align: top;\n",
       "    }\n",
       "</style>\n",
       "<table border=\"1\" class=\"dataframe\">\n",
       "  <thead>\n",
       "    <tr style=\"text-align: right;\">\n",
       "      <th></th>\n",
       "      <th>Timestamp</th>\n",
       "      <th>Age</th>\n",
       "      <th>Gender</th>\n",
       "      <th>Income</th>\n",
       "      <th>Occupation</th>\n",
       "      <th>Fav_Pub</th>\n",
       "      <th>WTS</th>\n",
       "      <th>Freq</th>\n",
       "      <th>Prim_Imp</th>\n",
       "      <th>Sec_Imp</th>\n",
       "      <th>Stratum</th>\n",
       "      <th>Lifestyle</th>\n",
       "      <th>Occasions</th>\n",
       "    </tr>\n",
       "  </thead>\n",
       "  <tbody>\n",
       "    <tr>\n",
       "      <th>0</th>\n",
       "      <td>2017/02/25 10:52:03 PM GMT+4</td>\n",
       "      <td>19</td>\n",
       "      <td>Male</td>\n",
       "      <td>100000.0</td>\n",
       "      <td>Student</td>\n",
       "      <td>Station</td>\n",
       "      <td>2000.0</td>\n",
       "      <td>Several times in a month</td>\n",
       "      <td>Environment</td>\n",
       "      <td>Menu</td>\n",
       "      <td>Capital</td>\n",
       "      <td>Nightlife</td>\n",
       "      <td>Hang outs with friends</td>\n",
       "    </tr>\n",
       "    <tr>\n",
       "      <th>1</th>\n",
       "      <td>2017/02/25 10:53:19 PM GMT+4</td>\n",
       "      <td>19</td>\n",
       "      <td>Female</td>\n",
       "      <td>50000.0</td>\n",
       "      <td>Student</td>\n",
       "      <td>Calumet</td>\n",
       "      <td>2000.0</td>\n",
       "      <td>rarely (once two week/or a month)</td>\n",
       "      <td>Music</td>\n",
       "      <td>Pricing</td>\n",
       "      <td>Capital</td>\n",
       "      <td>Adventure/traveling/exploring</td>\n",
       "      <td>Hang outs with friends</td>\n",
       "    </tr>\n",
       "    <tr>\n",
       "      <th>2</th>\n",
       "      <td>2017/02/25 10:54:05 PM GMT+4</td>\n",
       "      <td>20</td>\n",
       "      <td>Male</td>\n",
       "      <td>100000.0</td>\n",
       "      <td>Student</td>\n",
       "      <td>Liberty</td>\n",
       "      <td>3000.0</td>\n",
       "      <td>rarely (once two week/or a month)</td>\n",
       "      <td>Environment</td>\n",
       "      <td>Music</td>\n",
       "      <td>Capital</td>\n",
       "      <td>Busy(student life, work)</td>\n",
       "      <td>Hang outs with friends</td>\n",
       "    </tr>\n",
       "    <tr>\n",
       "      <th>3</th>\n",
       "      <td>2017/02/25 10:55:09 PM GMT+4</td>\n",
       "      <td>18</td>\n",
       "      <td>Male</td>\n",
       "      <td>0.0</td>\n",
       "      <td>Student</td>\n",
       "      <td>Calumet</td>\n",
       "      <td>3000.0</td>\n",
       "      <td>Several times in a month</td>\n",
       "      <td>Environment</td>\n",
       "      <td>Music</td>\n",
       "      <td>Capital</td>\n",
       "      <td>Art</td>\n",
       "      <td>Hang outs with friends</td>\n",
       "    </tr>\n",
       "    <tr>\n",
       "      <th>4</th>\n",
       "      <td>2017/02/25 10:55:38 PM GMT+4</td>\n",
       "      <td>19</td>\n",
       "      <td>Female</td>\n",
       "      <td>130000.0</td>\n",
       "      <td>Student + working</td>\n",
       "      <td>Liberty</td>\n",
       "      <td>10000.0</td>\n",
       "      <td>rarely (once two week/or a month)</td>\n",
       "      <td>Pricing</td>\n",
       "      <td>Environment</td>\n",
       "      <td>Capital</td>\n",
       "      <td>NaN</td>\n",
       "      <td>Hang outs with friends</td>\n",
       "    </tr>\n",
       "  </tbody>\n",
       "</table>\n",
       "</div>"
      ],
      "text/plain": [
       "                      Timestamp  Age  Gender    Income          Occupation  \\\n",
       "0  2017/02/25 10:52:03 PM GMT+4    19    Male  100000.0            Student   \n",
       "1  2017/02/25 10:53:19 PM GMT+4    19  Female   50000.0            Student   \n",
       "2  2017/02/25 10:54:05 PM GMT+4    20    Male  100000.0            Student   \n",
       "3  2017/02/25 10:55:09 PM GMT+4    18    Male       0.0            Student   \n",
       "4  2017/02/25 10:55:38 PM GMT+4    19  Female  130000.0  Student + working   \n",
       "\n",
       "   Fav_Pub      WTS                               Freq     Prim_Imp  \\\n",
       "0  Station   2000.0           Several times in a month  Environment   \n",
       "1  Calumet   2000.0  rarely (once two week/or a month)        Music   \n",
       "2  Liberty   3000.0  rarely (once two week/or a month)  Environment   \n",
       "3  Calumet   3000.0           Several times in a month  Environment   \n",
       "4  Liberty  10000.0  rarely (once two week/or a month)      Pricing   \n",
       "\n",
       "       Sec_Imp  Stratum                      Lifestyle               Occasions  \n",
       "0         Menu  Capital                      Nightlife  Hang outs with friends  \n",
       "1      Pricing  Capital  Adventure/traveling/exploring  Hang outs with friends  \n",
       "2        Music  Capital       Busy(student life, work)  Hang outs with friends  \n",
       "3        Music  Capital                            Art  Hang outs with friends  \n",
       "4  Environment  Capital                            NaN  Hang outs with friends  "
      ]
     },
     "execution_count": 2,
     "metadata": {},
     "output_type": "execute_result"
    }
   ],
   "source": [
    "pub_survey = pd.read_csv('armenian_pubs.csv')\n",
    "pub_survey.head()"
   ]
  },
  {
   "cell_type": "code",
   "execution_count": 3,
   "metadata": {
    "scrolled": false
   },
   "outputs": [
    {
     "name": "stdout",
     "output_type": "stream",
     "text": [
      "<class 'str'>\n"
     ]
    },
    {
     "data": {
      "text/plain": [
       "0                Student\n",
       "1                Student\n",
       "2                Student\n",
       "3                Student\n",
       "4      Student + working\n",
       "5                Student\n",
       "6                Student\n",
       "7                Student\n",
       "8      Student + working\n",
       "9                Student\n",
       "10               Student\n",
       "11               Student\n",
       "12               Student\n",
       "13               Working\n",
       "14               Student\n",
       "15               Student\n",
       "16               Student\n",
       "17               Student\n",
       "18               Student\n",
       "19     Student + working\n",
       "20               Student\n",
       "21               Student\n",
       "22               Student\n",
       "23     Student + working\n",
       "24               Student\n",
       "25               Student\n",
       "26               Student\n",
       "27               Student\n",
       "28               Student\n",
       "29               Student\n",
       "             ...        \n",
       "145              Student\n",
       "146    Student + working\n",
       "147              Student\n",
       "148              Student\n",
       "149    Student + working\n",
       "150              Student\n",
       "151    Student + working\n",
       "152              Student\n",
       "153              Student\n",
       "154              Student\n",
       "155              Student\n",
       "156              Student\n",
       "157              Student\n",
       "158              Student\n",
       "159              Student\n",
       "160              Student\n",
       "161              Student\n",
       "162              Student\n",
       "163              Student\n",
       "164              Student\n",
       "165              Student\n",
       "166              Student\n",
       "167             Working \n",
       "168    Student + working\n",
       "169    Student + working\n",
       "170              Student\n",
       "171              Student\n",
       "172    Student + working\n",
       "173              Student\n",
       "174    Student + working\n",
       "Name:  Occupation, Length: 175, dtype: object"
      ]
     },
     "execution_count": 3,
     "metadata": {},
     "output_type": "execute_result"
    }
   ],
   "source": [
    "print(type(pub_survey.loc[3, ' Occupation']))\n",
    "pub_survey[' Occupation']"
   ]
  },
  {
   "cell_type": "markdown",
   "metadata": {},
   "source": [
    "The data in the rows may end up being messy given that row 167 has a space after \"Working\" and the column key has a space before \"Occupation.\" Also, the rows appear to contain many students. Let's see how many rows contain the word \"student.\""
   ]
  },
  {
   "cell_type": "code",
   "execution_count": 7,
   "metadata": {},
   "outputs": [
    {
     "name": "stdout",
     "output_type": "stream",
     "text": [
      "The number of students surveyed was at least 162 out of 175\n"
     ]
    }
   ],
   "source": [
    "students_surveyed = 0\n",
    "for item in pub_survey[' Occupation']:\n",
    "    if item.lower().find('student') != -1:\n",
    "        students_surveyed+= 1\n",
    "print('The number of students surveyed was at least {} out of {}'.format(students_surveyed, len(pub_survey)))"
   ]
  },
  {
   "cell_type": "markdown",
   "metadata": {},
   "source": [
    "This survey is, as expected, overwhemlingly represented by students. The name of the survey should be changed to reflect this large proportion of students"
   ]
  }
 ],
 "metadata": {
  "kernelspec": {
   "display_name": "Python 3",
   "language": "python",
   "name": "python3"
  },
  "language_info": {
   "codemirror_mode": {
    "name": "ipython",
    "version": 3
   },
   "file_extension": ".py",
   "mimetype": "text/x-python",
   "name": "python",
   "nbconvert_exporter": "python",
   "pygments_lexer": "ipython3",
   "version": "3.6.3"
  }
 },
 "nbformat": 4,
 "nbformat_minor": 2
}
