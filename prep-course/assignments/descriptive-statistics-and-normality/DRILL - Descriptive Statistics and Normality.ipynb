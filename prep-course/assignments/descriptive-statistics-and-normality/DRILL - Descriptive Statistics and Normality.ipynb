{
 "cells": [
  {
   "cell_type": "markdown",
   "metadata": {
    "collapsed": true
   },
   "source": [
    "### To complete the following drills, you'll need to use your Python skills to create some datasets, then use your new statistical knowledge to summarize them. Choose 6 distributions from the list of random distributions available in NumPy, called “Distributions”"
   ]
  },
  {
   "cell_type": "code",
   "execution_count": 1,
   "metadata": {
    "collapsed": true
   },
   "outputs": [],
   "source": [
    "import numpy as np\n",
    "import pandas as pd\n",
    "import matplotlib.pyplot as plt\n",
    "%matplotlib inline"
   ]
  },
  {
   "cell_type": "markdown",
   "metadata": {},
   "source": [
    "### Generate Distributions\n",
    "Generate a random variable with 100 datapoints using the code distributionvar = np.random.distributionname([arguments], 100), replacing distributionvar with an appropriate variable name and distributionname with the name of the distribution you’ve chosen, and filling in the empty space in the parentheses with your chosen values for the appropriate parameters. If you feel uncertain about how to do this, go back to the “Other Distributions” assignment for examples of code to use as a starting point."
   ]
  },
  {
   "cell_type": "code",
   "execution_count": 7,
   "metadata": {
    "collapsed": true
   },
   "outputs": [],
   "source": [
    "# Binomial distribution with 20 repetitions and probability of 0.3\n",
    "binomial = np.random.binomial(20, .3, 100)\n",
    "\n",
    "# Chi-Squared distribution with ddof of 3 and size of 100\n",
    "chisquared = np.random.chisquare(3, 100)\n",
    "\n",
    "# Geometric distribution with 10 repetitions, a probability of 0.2 and 10 repetitions\n",
    "geometric = np.random.geometric(p=0.7, size=100)\n",
    "\n",
    "# Gamma distribution with shape of 7 and scale of 10\n",
    "gamma = np.random.gamma(7,10, 100)\n",
    "\n",
    "# Rayleigh distribution with scale of 3 and size of 100\n",
    "rayleigh = np.random.rayleigh(scale=3, size=100)\n",
    "\n",
    "# Poisson distribution with lambda of 11\n",
    "poisson = np.random.poisson(11, 100)"
   ]
  },
  {
   "cell_type": "markdown",
   "metadata": {},
   "source": [
    "### Graph the variable using a histogram\n",
    "\n",
    "Compute the mean and standard deviation and plot them as vertical lines on the histogram. (Hint: the “When Does It Break?” assignment you just completed can help you here.)\n"
   ]
  },
  {
   "cell_type": "code",
   "execution_count": 3,
   "metadata": {
    "scrolled": true
   },
   "outputs": [
    {
     "data": {
      "image/png": "[encoded data removed]",
      "text/plain": [
       "<matplotlib.figure.Figure at 0x7ac6ea8d2da0>"
      ]
     },
     "metadata": {},
     "output_type": "display_data"
    }
   ],
   "source": [
    "# Binomial\n",
    "plt.hist(binomial)\n",
    "plt.axvline(binomial.mean(), color='r', linestyle='solid', linewidth=3)\n",
    "plt.axvline(binomial.mean()+binomial.std(), color='r', linestyle='dashed', linewidth=3)\n",
    "plt.axvline(binomial.mean()-binomial.std(), color='r', linestyle='dashed', linewidth=3)\n",
    "plt.show()"
   ]
  },
  {
   "cell_type": "code",
   "execution_count": 8,
   "metadata": {},
   "outputs": [
    {
     "data": {
      "image/png": "[encoded data removed]",
      "text/plain": [
       "<matplotlib.figure.Figure at 0x7ac7101481d0>"
      ]
     },
     "metadata": {},
     "output_type": "display_data"
    }
   ],
   "source": [
    "# Chi-Squared\n",
    "plt.hist(chisquared)\n",
    "chi_median = np.median(chisquared)\n",
    "plt.axvline(chisquared.mean(), color='r', linestyle='solid', linewidth=3)\n",
    "plt.axvline(chisquared.mean()+chisquared.std(), color='r', linestyle='dashed', linewidth=3)\n",
    "plt.axvline(chisquared.mean()-chisquared.std(), color='r', linestyle='dashed', linewidth=3)\n",
    "plt.axvline(chi_median, color='purple', linestyle='solid', linewidth=3)\n",
    "plt.show()"
   ]
  },
  {
   "cell_type": "code",
   "execution_count": 5,
   "metadata": {
    "scrolled": true
   },
   "outputs": [
    {
     "data": {
      "image/png": "[encoded data removed]",
      "text/plain": [
       "<matplotlib.figure.Figure at 0x7bd34811ada0>"
      ]
     },
     "metadata": {},
     "output_type": "display_data"
    }
   ],
   "source": [
    "# Geometric\n",
    "plt.hist(geometric)\n",
    "plt.axvline(geometric.mean(), color='r', linestyle='solid', linewidth=3)\n",
    "plt.axvline(geometric.mean()+geometric.std(), color='r', linestyle='dashed', linewidth=3)\n",
    "plt.axvline(geometric.mean()-geometric.std(), color='r', linestyle='dashed', linewidth=3)\n",
    "plt.show()"
   ]
  },
  {
   "cell_type": "code",
   "execution_count": 6,
   "metadata": {
    "scrolled": true
   },
   "outputs": [
    {
     "data": {
      "image/png": "[encoded data removed]",
      "text/plain": [
       "<matplotlib.figure.Figure at 0x7bd3481c7a20>"
      ]
     },
     "metadata": {},
     "output_type": "display_data"
    }
   ],
   "source": [
    "# Gamma\n",
    "plt.hist(gamma)\n",
    "plt.axvline(gamma.mean(), color='r', linestyle='solid', linewidth=3)\n",
    "plt.axvline(gamma.mean()+gamma.std(), color='r', linestyle='dashed', linewidth=3)\n",
    "plt.axvline(gamma.mean()-gamma.std(), color='r', linestyle='dashed', linewidth=3)\n",
    "plt.show()"
   ]
  },
  {
   "cell_type": "code",
   "execution_count": 7,
   "metadata": {
    "scrolled": true
   },
   "outputs": [
    {
     "data": {
      "image/png": "[encoded data removed]",
      "text/plain": [
       "<matplotlib.figure.Figure at 0x7bd34802fa20>"
      ]
     },
     "metadata": {},
     "output_type": "display_data"
    }
   ],
   "source": [
    "# Rayleigh\n",
    "plt.hist(rayleigh)\n",
    "plt.axvline(rayleigh.mean(), color='r', linestyle='solid', linewidth=3)\n",
    "plt.axvline(rayleigh.mean()+rayleigh.std(), color='r', linestyle='dashed', linewidth=3)\n",
    "plt.axvline(rayleigh.mean()-rayleigh.std(), color='r', linestyle='dashed', linewidth=3)\n",
    "plt.show()"
   ]
  },
  {
   "cell_type": "code",
   "execution_count": 8,
   "metadata": {
    "scrolled": true
   },
   "outputs": [
    {
     "data": {
      "image/png": "[encoded data removed]",
      "text/plain": [
       "<matplotlib.figure.Figure at 0x7bd347fb1c88>"
      ]
     },
     "metadata": {},
     "output_type": "display_data"
    }
   ],
   "source": [
    "# Poisson\n",
    "plt.hist(poisson)\n",
    "plt.axvline(poisson.mean(), color='r', linestyle='solid', linewidth=3)\n",
    "plt.axvline(poisson.mean()+poisson.std(), color='r', linestyle='dashed', linewidth=3)\n",
    "plt.axvline(poisson.mean()-poisson.std(), color='r', linestyle='dashed', linewidth=3)\n",
    "plt.show()"
   ]
  },
  {
   "cell_type": "markdown",
   "metadata": {},
   "source": [
    "### Useful statistics?\n",
    "\n",
    "Evaluate whether the descriptive statistics provided useful information about the variable. Can you identify any common characteristics of the distributions that could be usefully described using the mean and/or standard deviation, versus the ones that could not?"
   ]
  },
  {
   "cell_type": "markdown",
   "metadata": {},
   "source": [
    "The mean and standard deviation provided some useful information about 4 of the distributions - binomial, poisson, gamma, rayleigh. You can see the central tendency and spread of the data. I think this is because they are density functions or the bins are counts per sample. Chi-squared and geometric will always be positively skewed by their outliers and need other descriptive statistics."
   ]
  },
  {
   "cell_type": "markdown",
   "metadata": {},
   "source": [
    "### Additionally:\n",
    "\n",
    "1. Generate two normally-distributed variables, one with a mean of 5 and standard deviation of 0.5, and the other with a mean of 10 and standard deviation of 1.\n",
    "2. Add them together to create a third variable.\n",
    "3. Graph the third variable using a histogram.\n",
    "4. Compute the mean and standard deviation and plot them as vertical lines on the histogram.\n",
    "5. Evaluate the descriptive statistics against the data."
   ]
  },
  {
   "cell_type": "code",
   "execution_count": 24,
   "metadata": {
    "scrolled": true
   },
   "outputs": [
    {
     "data": {
      "image/png": "[encoded data removed]",
      "text/plain": [
       "<matplotlib.figure.Figure at 0x7bd347dbfa58>"
      ]
     },
     "metadata": {},
     "output_type": "display_data"
    },
    {
     "name": "stdout",
     "output_type": "stream",
     "text": [
      "mean:  15.1280275652\n",
      "median:  15.1634475637\n"
     ]
    }
   ],
   "source": [
    "# Generating variables\n",
    "v1 = np.random.normal(5,.5, 100)\n",
    "v2 = np.random.normal(10,1, 100)\n",
    "\n",
    "# Generating derivative variable\n",
    "v3 = v1 + v2\n",
    "\n",
    "# Calculating simple descriptive statistics\n",
    "v3_mean = v3.mean()\n",
    "v3_std = v3.std(ddof=0)\n",
    "v3_median = np.median(v3)\n",
    "\n",
    "# Plotting derived variable\n",
    "plt.hist(v3)\n",
    "plt.axvline(v3_mean, color='r', linestyle='solid', linewidth=3)\n",
    "plt.axvline(v3_mean+v3_std, color='r', linestyle='dashed', linewidth=3)\n",
    "plt.axvline(v3_mean-v3_std, color='r', linestyle='dashed', linewidth=3)\n",
    "plt.axvline(v3_median, color='purple', linestyle='solid', linewidth=3)\n",
    "plt.show()\n",
    "print('mean: ', v3_mean)\n",
    "print('median: ', v3_median)"
   ]
  },
  {
   "cell_type": "markdown",
   "metadata": {},
   "source": [
    "There is going to be skew in the positive or negative direction because there aren't enough data points. Positive skew is when the mean > median."
   ]
  }
 ],
 "metadata": {
  "kernelspec": {
   "display_name": "Python 3",
   "language": "python",
   "name": "python3"
  },
  "language_info": {
   "codemirror_mode": {
    "name": "ipython",
    "version": 3
   },
   "file_extension": ".py",
   "mimetype": "text/x-python",
   "name": "python",
   "nbconvert_exporter": "python",
   "pygments_lexer": "ipython3",
   "version": "3.6.3"
  }
 },
 "nbformat": 4,
 "nbformat_minor": 2
}
