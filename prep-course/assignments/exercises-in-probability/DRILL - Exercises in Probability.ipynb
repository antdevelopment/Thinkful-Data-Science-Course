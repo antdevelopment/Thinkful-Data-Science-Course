{
 "cells": [
  {
   "cell_type": "markdown",
   "metadata": {},
   "source": [
    "#### Calculate the probability of flipping a balanced coin four times and getting each pattern: HTTH, HHHH and TTHH."
   ]
  },
  {
   "cell_type": "code",
   "execution_count": 3,
   "metadata": {
    "collapsed": true
   },
   "outputs": [],
   "source": [
    "import numpy as np\n",
    "import pandas as pd\n",
    "import matplotlib.pyplot as plt"
   ]
  },
  {
   "cell_type": "markdown",
   "metadata": {},
   "source": [
    "These are combinations of independent events. Additionally, the probabaility to get each pattern is equal since the number of draws is the same for each."
   ]
  },
  {
   "cell_type": "code",
   "execution_count": 4,
   "metadata": {
    "scrolled": true
   },
   "outputs": [
    {
     "name": "stdout",
     "output_type": "stream",
     "text": [
      "The probability for each outcome is 6.25%\n"
     ]
    }
   ],
   "source": [
    "four_toss_P = 0.5**4\n",
    "print('The probability for each outcome is {}%'.format(four_toss_P*100))"
   ]
  },
  {
   "cell_type": "markdown",
   "metadata": {},
   "source": [
    "#### If a list of people has 24 women and 21 men, then the probability of choosing a man from the list is 21/45. What is the probability of not choosing a man?"
   ]
  },
  {
   "cell_type": "markdown",
   "metadata": {},
   "source": [
    "This data set consists of a classification variable. So we can just replace the numerator of the given probability with the count of women."
   ]
  },
  {
   "cell_type": "code",
   "execution_count": 19,
   "metadata": {
    "scrolled": true
   },
   "outputs": [
    {
     "name": "stdout",
     "output_type": "stream",
     "text": [
      "The probability to choose a man is 46.666666666666664%\n",
      "\n",
      "The probability to not choose a man and therefore a woman is 53.333333333333336%\n"
     ]
    }
   ],
   "source": [
    "# Create data frame of the pop\n",
    "pop = pd.DataFrame(index=['women', 'men'], columns=['count'])\n",
    "pop['count'] = [24, 21]\n",
    "\n",
    "# Printing the probabilities. P(men) = P(~women)\n",
    "print('The probability to choose a man is {}%'.format(np.divide(pop.loc['men', 'count'], pop.sum())[0]*100))\n",
    "print('\\nThe probability to not choose a man and therefore a woman is {}%'.format(100 - np.divide(pop.loc['men', 'count'], pop.sum())[0]*100))"
   ]
  },
  {
   "cell_type": "markdown",
   "metadata": {},
   "source": [
    "#### The probability that Bernice will travel by plane sometime in the next year is 10%. The probability of a plane crash at any time is .005%. What is the probability that Bernice will be in a plane crash sometime in the next year?"
   ]
  },
  {
   "cell_type": "markdown",
   "metadata": {},
   "source": [
    "These are independent events. Bernice's chance of traveling on a plane this year is not a condition on the plane crash rate. The plane crash rate in this example is not stated to influence Bernice's chance to travel by plane. So we can just multiple the probabilities together.\n",
    "\n",
    "P(A) = P(Bernice on plane) = 10%\n",
    "\n",
    "P(B) = P(plane crash) = 0.005%\n",
    "\n",
    "P(A & B) = P(Bernice on plane & plane crash) = P(A) * P(B)"
   ]
  },
  {
   "cell_type": "code",
   "execution_count": 26,
   "metadata": {},
   "outputs": [
    {
     "name": "stdout",
     "output_type": "stream",
     "text": [
      "The probability that Bernice will be in a plane crash is 0.0005%\n"
     ]
    }
   ],
   "source": [
    "# Creating data frame of probabilities\n",
    "bernice_plane = pd.DataFrame(index=['P(Bernice on plane)', 'P(plane crash)'], columns=['Value'])\n",
    "bernice_plane.loc['P(Bernice on plane)', 'Value'] = 0.1\n",
    "bernice_plane.loc['P(plane crash)', 'Value'] = 0.00005\n",
    "\n",
    "print('The probability that Bernice will be in a plane crash is {}%'.format(100*np.multiply(bernice_plane.loc['P(Bernice on plane)', 'Value'], bernice_plane.loc['P(plane crash)', 'Value'])))"
   ]
  },
  {
   "cell_type": "markdown",
   "metadata": {},
   "source": [
    "#### A data scientist wants to study the behavior of users on the company website. Each time a user clicks on a link on the website, there is a 5% chance that the user will be asked to complete a short survey about their behavior on the website. The data scientist uses the survey data to conclude that, on average, users spend 15 minutes surfing the company website before moving on to other things. What is wrong with this conclusion?"
   ]
  },
  {
   "cell_type": "markdown",
   "metadata": {},
   "source": [
    "There is huge selection bias when using survey data. We are not talking about the average user, but the average survey-taker. People who are willing to spend more time on the site and respond to surveys have unique characteristics that we want to isolate from the estimate."
   ]
  }
 ],
 "metadata": {
  "kernelspec": {
   "display_name": "Python 3",
   "language": "python",
   "name": "python3"
  },
  "language_info": {
   "codemirror_mode": {
    "name": "ipython",
    "version": 3
   },
   "file_extension": ".py",
   "mimetype": "text/x-python",
   "name": "python",
   "nbconvert_exporter": "python",
   "pygments_lexer": "ipython3",
   "version": "3.6.3"
  }
 },
 "nbformat": 4,
 "nbformat_minor": 2
}
