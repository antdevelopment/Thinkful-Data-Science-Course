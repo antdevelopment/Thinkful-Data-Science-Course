{
 "cells": [
  {
   "cell_type": "markdown",
   "metadata": {
    "collapsed": true
   },
   "source": [
    "### Now that you have some code to create your own populations, sample them, and compare the samples to the populations, it's time to experiment. Using your own Jupyter notebook, or a copy of the notebook from the previous assignment, reproduce the pop1 and pop2 populations and samples.\n",
    "#### Specifically, create two binomially distributed populations with n equal to 10 and size equal to 10000. The p-value of pop1 should be 0.2 and the p-value of pop2 should be 0.5. Using a sample size of 100, calculate the means and standard deviations of your samples."
   ]
  },
  {
   "cell_type": "code",
   "execution_count": 1,
   "metadata": {
    "collapsed": true
   },
   "outputs": [],
   "source": [
    "import numpy as np\n",
    "import pandas as pd\n",
    "from scipy.stats import ttest_ind\n",
    "import matplotlib.pyplot as plt\n",
    "%matplotlib inline"
   ]
  },
  {
   "cell_type": "code",
   "execution_count": 2,
   "metadata": {
    "collapsed": true
   },
   "outputs": [],
   "source": [
    "# Create binomially distributed populations\n",
    "pop1 = np.random.binomial(10, 0.2, 10000)\n",
    "pop2 = np.random.binomial(10,0.5, 10000) "
   ]
  },
  {
   "cell_type": "code",
   "execution_count": 3,
   "metadata": {
    "scrolled": false
   },
   "outputs": [
    {
     "name": "stdout",
     "output_type": "stream",
     "text": [
      "The mean of sample 1 is:  1.81\n",
      "The mean of sample 2 is:  4.98\n",
      "The standard deviation of sample 1 is:  1.03176812053\n",
      "The standard deviation of sample 2 is:  1.65132331385\n",
      "The difference between the sample means is:  3.17\n",
      "It is True that the difference between sample means is larger than the standard error of the difference\n"
     ]
    },
    {
     "data": {
      "image/png": "[encoded data removed]",
      "text/plain": [
       "<matplotlib.figure.Figure at 0x7db489f42be0>"
      ]
     },
     "metadata": {},
     "output_type": "display_data"
    }
   ],
   "source": [
    "# Drawing 100 samples\n",
    "sample1 = np.random.choice(pop1, 100, replace=True)\n",
    "sample2 = np.random.choice(pop2, 100, replace=True)\n",
    "\n",
    "# Descriptive statistics of 1st sampling\n",
    "print('The mean of sample 1 is: ', sample1.mean())\n",
    "print('The mean of sample 2 is: ', sample2.mean())\n",
    "print('The standard deviation of sample 1 is: ', sample1.std(ddof=1))\n",
    "print('The standard deviation of sample 2 is: ', sample2.std(ddof=1))\n",
    "print('The difference between the sample means is: ', np.subtract(\n",
    "      sample2.mean(), sample1.mean()))\n",
    "print('It is {} that the difference between sample means is larger than '\n",
    "      'the standard error of the difference'.format(\n",
    "      np.abs(np.subtract(sample2.mean(), sample1.mean())) >\n",
    "      np.sqrt(np.square(sample2.std(ddof=1)) +\n",
    "      np.square(sample1.std(ddof=1))/100)))\n",
    "\n",
    "# Plotting histograms for comparison\n",
    "plt.hist(sample1, alpha=0.5, label='sample 1') \n",
    "plt.hist(sample2, alpha=0.5, label='sample 2') \n",
    "plt.legend(loc='upper right') \n",
    "plt.show()"
   ]
  },
  {
   "cell_type": "markdown",
   "metadata": {},
   "source": [
    "#### For each of the following tasks, first write what you expect will happen, then code the changes and observe what does happen. Discuss the results with your mentor."
   ]
  },
  {
   "cell_type": "markdown",
   "metadata": {},
   "source": [
    "* #### Increase the size of your samples from 100 to 1000, then calculate the means and standard deviations for your new samples and create histograms for each. Repeat this again, decreasing the size of your samples to 20. What values change, and what remain the same?"
   ]
  },
  {
   "cell_type": "markdown",
   "metadata": {},
   "source": [
    "When the samples are exponentially increased, I expect the standard deviation of the sample to be closer to that of the population because of the replacement. I expect the opposite for the 5-fold sample decrease, though its accuracy is also helped by replacement but to a smaller degree."
   ]
  },
  {
   "cell_type": "code",
   "execution_count": 4,
   "metadata": {},
   "outputs": [
    {
     "name": "stdout",
     "output_type": "stream",
     "text": [
      "The mean of sample 12 is:  1.978\n",
      "The mean of sample 22 is:  4.98\n",
      "The standard deviation of sample 12 is:  1.28808973879\n",
      "The standard deviation of sample 22 is:  1.54466371291\n",
      "The difference between the sample means is:  3.002\n",
      "It is True that the difference between sample means is larger than the standard error of the difference\n"
     ]
    },
    {
     "data": {
      "image/png": "[encoded data removed]",
      "text/plain": [
       "<matplotlib.figure.Figure at 0x7db489f42b00>"
      ]
     },
     "metadata": {},
     "output_type": "display_data"
    }
   ],
   "source": [
    "# Second sampling\n",
    "sample12 = np.random.choice(pop1, 1000, replace=True)\n",
    "sample22 = np.random.choice(pop2, 1000, replace=True)\n",
    "\n",
    "# Descriptive statistics of 2nd sampling\n",
    "print('The mean of sample 12 is: ', sample12.mean())\n",
    "print('The mean of sample 22 is: ', sample22.mean())\n",
    "print('The standard deviation of sample 12 is: ', sample12.std(ddof=1))\n",
    "print('The standard deviation of sample 22 is: ', sample22.std(ddof=1))\n",
    "print('The difference between the sample means is: ', np.subtract(\n",
    "    sample22.mean(), sample12.mean()))\n",
    "print('It is {} that the difference between sample means is larger than '\n",
    "      'the standard error of the difference'.format(\n",
    "      np.abs(np.subtract(sample22.mean(), sample12.mean())) >\n",
    "      np.sqrt(np.square(sample22.std(ddof=1)) +\n",
    "      np.square(sample12.std(ddof=1))/100)))\n",
    "\n",
    "# Plotting histograms for comparison\n",
    "plt.hist(sample12, alpha=0.5, label='sample 12') \n",
    "plt.hist(sample22, alpha=0.5, label='sample 22') \n",
    "plt.legend(loc='upper right') \n",
    "plt.show()"
   ]
  },
  {
   "cell_type": "code",
   "execution_count": 5,
   "metadata": {
    "scrolled": false
   },
   "outputs": [
    {
     "name": "stdout",
     "output_type": "stream",
     "text": [
      "The mean of sample 13 is:  1.8\n",
      "The mean of sample 23 is:  4.5\n",
      "The standard deviation of sample 13 is:  1.32188063797\n",
      "The standard deviation of sample 23 is:  1.14707866935\n",
      "The difference between the sample means is:  2.7\n",
      "It is True that the difference between sample means is larger than the standard error of the difference\n"
     ]
    },
    {
     "data": {
      "image/png": "[encoded data removed]",
      "text/plain": [
       "<matplotlib.figure.Figure at 0x7db48207eba8>"
      ]
     },
     "metadata": {},
     "output_type": "display_data"
    }
   ],
   "source": [
    "# Third sampling\n",
    "sample13 = np.random.choice(pop1, 20, replace=True)\n",
    "sample23 = np.random.choice(pop2, 20, replace=True)\n",
    "\n",
    "# Descriptive statistics of 2nd sampling\n",
    "print('The mean of sample 13 is: ', sample13.mean())\n",
    "print('The mean of sample 23 is: ', sample23.mean())\n",
    "print('The standard deviation of sample 13 is: ', sample13.std(ddof=1))\n",
    "print('The standard deviation of sample 23 is: ', sample23.std(ddof=1))\n",
    "print('The difference between the sample means is: ', np.subtract(\n",
    "    sample23.mean(), sample13.mean()))\n",
    "print('It is {} that the difference between sample means is larger than '\n",
    "      'the standard error of the difference'.format(\n",
    "      np.abs(np.subtract(sample23.mean(), sample13.mean())) >\n",
    "      np.sqrt(np.square(sample23.std(ddof=1)) +\n",
    "      np.square(sample13.std(ddof=1))/100)))\n",
    "\n",
    "# Plotting histograms for comparison\n",
    "plt.hist(sample13, alpha=0.5, label='sample 13') \n",
    "plt.hist(sample23, alpha=0.5, label='sample 23') \n",
    "plt.legend(loc='upper right') \n",
    "plt.show()"
   ]
  },
  {
   "cell_type": "code",
   "execution_count": 6,
   "metadata": {},
   "outputs": [
    {
     "name": "stdout",
     "output_type": "stream",
     "text": [
      "The percent difference between samples 1 and 12 means is 9.2817679558011%\n",
      "percent difference between samples 1 and 12 standard deviations is 24.842948057543428%\n"
     ]
    }
   ],
   "source": [
    "#Percent difference between means and standard deviations of samples 1\n",
    "# and 12\n",
    "print('The percent difference between samples 1 and 12 means is {}%'.\n",
    "      format(np.divide(np.subtract(sample12.mean(), sample1.mean()),\n",
    "      sample1.mean())*100))\n",
    "print('percent difference between samples 1 and 12 standard deviations '\n",
    "      'is {}%'.format(np.divide(np.subtract(sample12.std(ddof=1),\n",
    "      sample1.std(ddof=1)), sample1.std(ddof=1))*100))"
   ]
  },
  {
   "cell_type": "code",
   "execution_count": 7,
   "metadata": {},
   "outputs": [
    {
     "name": "stdout",
     "output_type": "stream",
     "text": [
      "The percent difference between samples 1 and 13 means is -0.5524861878453043%\n",
      "percent difference between samples 1 and 13 standard deviations is 28.117995862638463%\n"
     ]
    }
   ],
   "source": [
    "# Percent difference between means and standard deviations of samples 1\n",
    "# and 13\n",
    "print('The percent difference between samples 1 and 13 means is {}%'.\n",
    "      format(np.divide(np.subtract(sample13.mean(), sample1.mean()),\n",
    "      sample1.mean())*100))\n",
    "print('percent difference between samples 1 and 13 standard deviations '\n",
    "      'is {}%'.format(np.divide(np.subtract(sample13.std(ddof=1),\n",
    "      sample1.std(ddof=1)), sample1.std(ddof=1))*100))"
   ]
  },
  {
   "cell_type": "code",
   "execution_count": 8,
   "metadata": {},
   "outputs": [
    {
     "name": "stdout",
     "output_type": "stream",
     "text": [
      "The percent difference between samples 2 and 22 means is 0.0%\n",
      "percent difference between samples 2 and 22 standard deviations is -6.459038036037666%\n"
     ]
    }
   ],
   "source": [
    "# Percent difference between means and standard deviations of samples 2\n",
    "# and 22\n",
    "print('The percent difference between samples 2 and 22 means is {}%'.\n",
    "      format(np.divide(np.subtract(sample22.mean(), sample2.mean()),\n",
    "      sample2.mean())*100))\n",
    "print('percent difference between samples 2 and 22 standard deviations '\n",
    "      'is {}%'.format(np.divide(np.subtract(sample22.std(ddof=1),\n",
    "      sample2.std(ddof=1)), sample2.std(ddof=1))*100))"
   ]
  },
  {
   "cell_type": "code",
   "execution_count": 9,
   "metadata": {},
   "outputs": [
    {
     "name": "stdout",
     "output_type": "stream",
     "text": [
      "The percent difference between samples 2 and 23 means is -9.638554216867478%\n",
      "percent difference between samples 2 and 23 standard deviations is -30.535791523613526%\n"
     ]
    }
   ],
   "source": [
    "# Percent difference between means and standard deviations of samples 2\n",
    "# and 23\n",
    "print('The percent difference between samples 2 and 23 means is {}%'.\n",
    "      format(np.divide(np.subtract(sample23.mean(), sample2.mean()),\n",
    "      sample2.mean())*100))\n",
    "print('percent difference between samples 2 and 23 standard deviations '\n",
    "      'is {}%'.format(np.divide(np.subtract(sample23.std(ddof=1),\n",
    "      sample2.std(ddof=1)), sample2.std(ddof=1))*100))"
   ]
  },
  {
   "cell_type": "markdown",
   "metadata": {},
   "source": [
    "The standard deviation tends to change more than the mean. Even if the changes are roughly equal in magnitude but the mean decreases, the standard deviation is relative to the mean. A decrease in mean of 3 and increase in standard deviation of 3 means that the "
   ]
  },
  {
   "cell_type": "markdown",
   "metadata": {},
   "source": [
    "* #### Change the population value (p in the NumPy documentation) for pop1 to 0.3, then take new samples and compute the t-statistic and p-value. Then change the population value p for group 1 to 0.4, and do it again. What changes, and why?"
   ]
  },
  {
   "cell_type": "code",
   "execution_count": 10,
   "metadata": {
    "collapsed": true
   },
   "outputs": [],
   "source": [
    "# Changing pop1's p value to 0.3\n",
    "pop1 = np.random.binomial(10, 0.3, 10000)\n",
    "pop2 = np.random.binomial(10,0.5, 10000) "
   ]
  },
  {
   "cell_type": "code",
   "execution_count": 11,
   "metadata": {
    "scrolled": false
   },
   "outputs": [
    {
     "name": "stdout",
     "output_type": "stream",
     "text": [
      "The mean of p=0.3 sample 1 is:  3.28\n",
      "The mean of p=0.3 sample 2 is:  5.1\n",
      "The standard deviation of p=0.3 sample 1 is:  1.51810620994\n",
      "The standard deviation of p=0.3 sample 2 is:  1.38169855942\n",
      "The difference between the sample means is:  1.82\n",
      "It is True that the difference between sample means is larger than the standard error of the difference\n",
      "The t-value is 8.866202698588259 and the p-value is 4.628680602999378e-16\n"
     ]
    },
    {
     "data": {
      "image/png": "[encoded data removed]",
      "text/plain": [
       "<matplotlib.figure.Figure at 0x7db481ef4550>"
      ]
     },
     "metadata": {},
     "output_type": "display_data"
    }
   ],
   "source": [
    "# Drawing 100 samples on new populations\n",
    "p_03_sample1 = np.random.choice(pop1, 100, replace=True)\n",
    "p_03_sample2 = np.random.choice(pop2, 100, replace=True)\n",
    "\n",
    "# Descriptive statistics\n",
    "print('The mean of p=0.3 sample 1 is: ', p_03_sample1.mean())\n",
    "print('The mean of p=0.3 sample 2 is: ', p_03_sample2.mean())\n",
    "print('The standard deviation of p=0.3 sample 1 is: ', p_03_sample1.std(ddof=1))\n",
    "print('The standard deviation of p=0.3 sample 2 is: ', p_03_sample2.std(ddof=1))\n",
    "print('The difference between the sample means is: ', np.subtract(\n",
    "      p_03_sample2.mean(), p_03_sample1.mean()))\n",
    "print('It is {} that the difference between sample means is larger than '\n",
    "      'the standard error of the difference'.format(\n",
    "      np.subtract(p_03_sample2.mean(), p_03_sample1.mean()) >\n",
    "      np.sqrt(np.square(p_03_sample2.std(ddof=1)) +\n",
    "      np.square(p_03_sample1.std(ddof=1))/100)))\n",
    "print('The t-value is {} and the p-value is {}'.format(ttest_ind(\n",
    "    p_03_sample2, p_03_sample1, equal_var=False)[0], ttest_ind(\n",
    "    p_03_sample2, p_03_sample1, equal_var=False)[1]))\n",
    "\n",
    "# Plotting histograms for comparison\n",
    "plt.hist(p_03_sample1, alpha=0.5, label='p=0.3 sample 1') \n",
    "plt.hist(p_03_sample2, alpha=0.5, label='p=0.3 sample 2') \n",
    "plt.legend(loc='upper right') \n",
    "plt.show()"
   ]
  },
  {
   "cell_type": "code",
   "execution_count": 12,
   "metadata": {
    "collapsed": true
   },
   "outputs": [],
   "source": [
    "# Changing pop1's p value to 0.4\n",
    "pop1 = np.random.binomial(10, 0.4, 10000)\n",
    "pop2 = np.random.binomial(10,0.5, 10000) "
   ]
  },
  {
   "cell_type": "code",
   "execution_count": 13,
   "metadata": {
    "scrolled": false
   },
   "outputs": [
    {
     "name": "stdout",
     "output_type": "stream",
     "text": [
      "The mean of p=0.4 sample 1 is:  4.0\n",
      "The mean of p=0.4 sample 2 is:  4.9\n",
      "The standard deviation of p=0.4 sample 1 is:  1.5504968249\n",
      "The standard deviation of p=0.4 sample 2 is:  1.63608302869\n",
      "The difference between the sample means is:  0.9\n",
      "It is False that the difference between sample means is larger than the standard error of the difference\n",
      "The t-value is 3.992786736660661 and the p-value is 9.20650753655731e-05\n"
     ]
    },
    {
     "data": {
      "image/png": "[encoded data removed]",
      "text/plain": [
       "<matplotlib.figure.Figure at 0x7db48204c0b8>"
      ]
     },
     "metadata": {},
     "output_type": "display_data"
    }
   ],
   "source": [
    "# Drawing 100 samples on new populations\n",
    "p_04_sample1 = np.random.choice(pop1, 100, replace=True)\n",
    "p_04_sample2 = np.random.choice(pop2, 100, replace=True)\n",
    "\n",
    "# Descriptive statistics\n",
    "print('The mean of p=0.4 sample 1 is: ', p_04_sample1.mean())\n",
    "print('The mean of p=0.4 sample 2 is: ', p_04_sample2.mean())\n",
    "print('The standard deviation of p=0.4 sample 1 is: ', p_04_sample1.std(ddof=1))\n",
    "print('The standard deviation of p=0.4 sample 2 is: ', p_04_sample2.std(ddof=1))\n",
    "print('The difference between the sample means is: ', np.subtract(\n",
    "      p_04_sample2.mean(), p_04_sample1.mean()))\n",
    "print('It is {} that the difference between sample means is larger than '\n",
    "      'the standard error of the difference'.format(\n",
    "      np.subtract(p_04_sample2.mean(), p_04_sample1.mean()) >\n",
    "      np.sqrt(np.square(p_04_sample2.std(ddof=1)) +\n",
    "      np.square(p_04_sample1.std(ddof=1))/100)))\n",
    "print('The t-value is {} and the p-value is {}'.format(ttest_ind(\n",
    "    p_04_sample2, p_04_sample1, equal_var=False)[0], ttest_ind(\n",
    "    p_04_sample2, p_04_sample1, equal_var=False)[1]))\n",
    "\n",
    "# Plotting histograms for comparison\n",
    "plt.hist(p_04_sample1, alpha=0.5, label='p=0.4 sample 1') \n",
    "plt.hist(p_04_sample2, alpha=0.5, label='p=0.4 sample 2') \n",
    "plt.legend(loc='upper right') \n",
    "plt.show()"
   ]
  },
  {
   "cell_type": "markdown",
   "metadata": {},
   "source": [
    "* #### Change the distribution of your populations from binomial to a distribution of your choice. Do the sample mean values still accurately represent the population values?"
   ]
  },
  {
   "cell_type": "code",
   "execution_count": 14,
   "metadata": {
    "collapsed": true
   },
   "outputs": [],
   "source": [
    "# Create Poisson distributed populations with same\n",
    "# amount of percent difference between the lambda\n",
    "# values as the binomial p values\n",
    "pop12 = np.random.poisson(3, 10000)\n",
    "pop22 = np.random.poisson(7.5, 10000)"
   ]
  },
  {
   "cell_type": "code",
   "execution_count": 15,
   "metadata": {
    "scrolled": false
   },
   "outputs": [
    {
     "name": "stdout",
     "output_type": "stream",
     "text": [
      "The mean of p sample 1 is:  2.84\n",
      "The mean of p sample 2 is:  6.8\n",
      "The standard deviation of p sample 1 is:  1.50232143597\n",
      "The standard deviation of p sample 2 is:  2.27857832692\n",
      "The difference between the sample means is:  3.96\n",
      "It is True that the difference between sample means is larger than the standard error of the difference\n"
     ]
    },
    {
     "data": {
      "image/png": "[encoded data removed]",
      "text/plain": [
       "<matplotlib.figure.Figure at 0x7db481e96780>"
      ]
     },
     "metadata": {},
     "output_type": "display_data"
    }
   ],
   "source": [
    "# Drawing 100 samples\n",
    "psample1 = np.random.choice(pop12, 100, replace=True)\n",
    "psample2 = np.random.choice(pop22, 100, replace=True)\n",
    "\n",
    "# Descriptive statistics of 1st sampling\n",
    "print('The mean of p sample 1 is: ', psample1.mean())\n",
    "print('The mean of p sample 2 is: ', psample2.mean())\n",
    "print('The standard deviation of p sample 1 is: ', psample1.std(ddof=1))\n",
    "print('The standard deviation of p sample 2 is: ', psample2.std(ddof=1))\n",
    "print('The difference between the sample means is: ', np.subtract(\n",
    "      psample2.mean(), psample1.mean()))\n",
    "print('It is {} that the difference between sample means is larger than '\n",
    "      'the standard error of the difference'.format(\n",
    "      np.abs(np.subtract(psample2.mean(), psample1.mean())) >\n",
    "      np.sqrt(np.square(psample2.std(ddof=1)) +\n",
    "      np.square(psample1.std(ddof=1))/100)))\n",
    "\n",
    "# Plotting histograms for comparison\n",
    "plt.hist(psample1, alpha=0.5, label='p sample 1') \n",
    "plt.hist(psample2, alpha=0.5, label='p sample 2') \n",
    "plt.legend(loc='upper right') \n",
    "plt.show()"
   ]
  },
  {
   "cell_type": "code",
   "execution_count": 16,
   "metadata": {},
   "outputs": [
    {
     "name": "stdout",
     "output_type": "stream",
     "text": [
      "The mean of p sample 12 is:  3.04\n",
      "The mean of p sample 22 is:  7.533\n",
      "The standard deviation of p sample 12 is:  1.74110063794\n",
      "The standard deviation of p sample 22 is:  2.86235988375\n",
      "The difference between the sample means is:  4.493\n",
      "It is True that the difference between sample means is larger than the standard error of the difference\n"
     ]
    },
    {
     "data": {
      "image/png": "[encoded data removed]",
      "text/plain": [
       "<matplotlib.figure.Figure at 0x7db481d673c8>"
      ]
     },
     "metadata": {},
     "output_type": "display_data"
    }
   ],
   "source": [
    "# Second sampling\n",
    "psample12 = np.random.choice(pop12, 1000, replace=True)\n",
    "psample22 = np.random.choice(pop22, 1000, replace=True)\n",
    "\n",
    "# Descriptive statistics of 2nd sampling\n",
    "print('The mean of p sample 12 is: ', psample12.mean())\n",
    "print('The mean of p sample 22 is: ', psample22.mean())\n",
    "print('The standard deviation of p sample 12 is: ', psample12.std(ddof=1))\n",
    "print('The standard deviation of p sample 22 is: ', psample22.std(ddof=1))\n",
    "print('The difference between the sample means is: ', np.subtract(\n",
    "    psample22.mean(), psample12.mean()))\n",
    "print('It is {} that the difference between sample means is larger than '\n",
    "      'the standard error of the difference'.format(\n",
    "      np.abs(np.subtract(psample22.mean(), psample12.mean())) >\n",
    "      np.sqrt(np.square(psample22.std(ddof=1)) +\n",
    "      np.square(psample12.std(ddof=1))/100)))\n",
    "\n",
    "# Plotting histograms for comparison\n",
    "plt.hist(psample12, alpha=0.5, label='p sample 12') \n",
    "plt.hist(psample22, alpha=0.5, label='p sample 22') \n",
    "plt.legend(loc='upper right') \n",
    "plt.show()"
   ]
  },
  {
   "cell_type": "code",
   "execution_count": 17,
   "metadata": {
    "scrolled": false
   },
   "outputs": [
    {
     "name": "stdout",
     "output_type": "stream",
     "text": [
      "The mean of p sample 13 is:  2.75\n",
      "The mean of p sample 23 is:  7.85\n",
      "The standard deviation of p sample 13 is:  1.86024899295\n",
      "The standard deviation of p sample 23 is:  1.75544266422\n",
      "The difference between the sample means is:  5.1\n",
      "It is True that the difference between sample means is larger than the standard error of the difference\n"
     ]
    },
    {
     "data": {
      "image/png": "[encoded data removed]",
      "text/plain": [
       "<matplotlib.figure.Figure at 0x7db481d57320>"
      ]
     },
     "metadata": {},
     "output_type": "display_data"
    }
   ],
   "source": [
    "# Third sampling\n",
    "psample13 = np.random.choice(pop12, 20, replace=True)\n",
    "psample23 = np.random.choice(pop22, 20, replace=True)\n",
    "\n",
    "# Descriptive statistics of 2nd sampling\n",
    "print('The mean of p sample 13 is: ', psample13.mean())\n",
    "print('The mean of p sample 23 is: ', psample23.mean())\n",
    "print('The standard deviation of p sample 13 is: ', psample13.std(ddof=1))\n",
    "print('The standard deviation of p sample 23 is: ', psample23.std(ddof=1))\n",
    "print('The difference between the sample means is: ', np.subtract(\n",
    "    psample23.mean(), psample13.mean()))\n",
    "print('It is {} that the difference between sample means is larger than '\n",
    "      'the standard error of the difference'.format(\n",
    "      np.abs(np.subtract(psample23.mean(), psample13.mean())) >\n",
    "      np.sqrt(np.square(psample23.std(ddof=1)) +\n",
    "      np.square(psample13.std(ddof=1))/100)))\n",
    "\n",
    "# Plotting histograms for comparison\n",
    "plt.hist(psample13, alpha=0.5, label='p sample 13') \n",
    "plt.hist(psample23, alpha=0.5, label='p sample 23') \n",
    "plt.legend(loc='upper right') \n",
    "plt.show()"
   ]
  },
  {
   "cell_type": "code",
   "execution_count": 18,
   "metadata": {},
   "outputs": [
    {
     "name": "stdout",
     "output_type": "stream",
     "text": [
      "The percent difference between p samples 1 and 12 means is 7.042253521126768%\n",
      "percent difference between p samples 1 and 12 standard deviations is 15.894015505198%\n"
     ]
    }
   ],
   "source": [
    "#Percent difference between means and standard deviations of p samples 1\n",
    "# and 12\n",
    "print('The percent difference between p samples 1 and 12 means is {}%'.\n",
    "      format(np.divide(np.subtract(psample12.mean(), psample1.mean()),\n",
    "      psample1.mean())*100))\n",
    "print('percent difference between p samples 1 and 12 standard deviations '\n",
    "      'is {}%'.format(np.divide(np.subtract(psample12.std(ddof=1),\n",
    "      psample1.std(ddof=1)), psample1.std(ddof=1))*100))"
   ]
  },
  {
   "cell_type": "code",
   "execution_count": 19,
   "metadata": {},
   "outputs": [
    {
     "name": "stdout",
     "output_type": "stream",
     "text": [
      "The percent difference between p samples 1 and 13 means is -3.169014084507037%\n",
      "percent difference between p samples 1 and 13 standard deviations is 23.82496504524028%\n"
     ]
    }
   ],
   "source": [
    "# Percent difference between means and standard deviations of p samples 1\n",
    "# and 13\n",
    "print('The percent difference between p samples 1 and 13 means is {}%'.\n",
    "      format(np.divide(np.subtract(psample13.mean(), psample1.mean()),\n",
    "      psample1.mean())*100))\n",
    "print('percent difference between p samples 1 and 13 standard deviations '\n",
    "      'is {}%'.format(np.divide(np.subtract(psample13.std(ddof=1),\n",
    "      psample1.std(ddof=1)), psample1.std(ddof=1))*100))"
   ]
  },
  {
   "cell_type": "code",
   "execution_count": 20,
   "metadata": {},
   "outputs": [
    {
     "name": "stdout",
     "output_type": "stream",
     "text": [
      "The percent difference between p samples 2 and 22 means is 10.77941176470589%\n",
      "percent difference between p samples 2 and 22 standard deviations is 25.62042963065209%\n"
     ]
    }
   ],
   "source": [
    "# Percent difference between means and standard deviations of p samples 2\n",
    "# and 22\n",
    "print('The percent difference between p samples 2 and 22 means is {}%'.\n",
    "      format(np.divide(np.subtract(psample22.mean(), psample2.mean()),\n",
    "      psample2.mean())*100))\n",
    "print('percent difference between p samples 2 and 22 standard deviations '\n",
    "      'is {}%'.format(np.divide(np.subtract(psample22.std(ddof=1),\n",
    "      psample2.std(ddof=1)), psample2.std(ddof=1))*100))"
   ]
  },
  {
   "cell_type": "code",
   "execution_count": 21,
   "metadata": {},
   "outputs": [
    {
     "name": "stdout",
     "output_type": "stream",
     "text": [
      "The percent difference between p samples 2 and 23 means is 15.441176470588234%\n",
      "percent difference between p samples 2 and 23 standard deviations is -22.958862397653483%\n"
     ]
    }
   ],
   "source": [
    "# Percent difference between means and standard deviations of p samples 2\n",
    "# and 23\n",
    "print('The percent difference between p samples 2 and 23 means is {}%'.\n",
    "      format(np.divide(np.subtract(psample23.mean(), psample2.mean()),\n",
    "      psample2.mean())*100))\n",
    "print('percent difference between p samples 2 and 23 standard deviations '\n",
    "      'is {}%'.format(np.divide(np.subtract(psample23.std(ddof=1),\n",
    "      psample2.std(ddof=1)), psample2.std(ddof=1))*100))"
   ]
  },
  {
   "cell_type": "markdown",
   "metadata": {},
   "source": [
    "The samples still accurately estimate the population mean because the mean is known to be lambda"
   ]
  }
 ],
 "metadata": {
  "kernelspec": {
   "display_name": "Python 3",
   "language": "python",
   "name": "python3"
  },
  "language_info": {
   "codemirror_mode": {
    "name": "ipython",
    "version": 3
   },
   "file_extension": ".py",
   "mimetype": "text/x-python",
   "name": "python",
   "nbconvert_exporter": "python",
   "pygments_lexer": "ipython3",
   "version": "3.6.3"
  }
 },
 "nbformat": 4,
 "nbformat_minor": 2
}
