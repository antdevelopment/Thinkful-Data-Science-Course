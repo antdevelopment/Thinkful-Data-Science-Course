{
 "cells": [
  {
   "cell_type": "markdown",
   "metadata": {},
   "source": [
    "#### A diagnostic test has a 98% probability of giving a positive result when applied to a person suffering from Thripshaw's Disease, and 10% probability of giving a (false) positive when applied to a non-sufferer. It is estimated that 0.5 % of the population are sufferers. Suppose that the test is now administered to a person whose disease status is unknown. Calculate the probability that the test will:\n",
    "\n",
    "1. Be positive\n",
    "2. Correctly diagnose a sufferer of Thripshaw's\n",
    "3. Correctly identify a non-sufferer of Thripshaw's\n",
    "4. Misclassify the person"
   ]
  },
  {
   "cell_type": "markdown",
   "metadata": {},
   "source": [
    "#### Calculate the probability that the test will be positive\n",
    "We do not know the subject, so we have to calculate the probability of a positive result whether the subject is suffering or not.\n",
    "\n",
    "P(sufferer) = sufferer = 0.5%\n",
    "\n",
    "P(non-sufferer) = non-suffering person = 99.5%\n",
    "\n",
    "P(positive| sufferer) = 98%\n",
    "\n",
    "P(negative| sufferer) = 2%\n",
    "\n",
    "P(positive| non-sufferer) = 10%\n",
    "\n",
    "P(negative| non-sufferer) = 90%\n",
    "\n",
    "P((sufferer and positive| sufferer) or (non-sufferer and positive| non-sufferer)) = total positive\n",
    "\n",
    "P((sufferer and negative| sufferer) or (non-sufferer and negative| non-sufferer)) = total negative"
   ]
  },
  {
   "cell_type": "code",
   "execution_count": 1,
   "metadata": {},
   "outputs": [
    {
     "name": "stdout",
     "output_type": "stream",
     "text": [
      "The probability of running the test on someone in the population and getting a positive test is 10.440000000000001%\n"
     ]
    }
   ],
   "source": [
    "# Assigning probability values\n",
    "p_sufferer = 0.005\n",
    "p_non_sufferer = 0.995\n",
    "p_pos_sufferer = 0.98\n",
    "p_neg_sufferer = 0.02\n",
    "p_pos_non_sufferer = 0.1\n",
    "p_neg_non_sufferer = 0.9\n",
    "\n",
    "# total positive test calculation:\n",
    "# P((sufferer and positive| sufferer)\n",
    "# or\n",
    "# (non-sufferer and positive| non-sufferer))\n",
    "print('The probability of running the test on someone in the population'\n",
    "      ' and getting a positive test is {}%'.format(100*((p_sufferer*\n",
    "      p_pos_sufferer) + p_non_sufferer* p_pos_non_sufferer)))"
   ]
  },
  {
   "cell_type": "markdown",
   "metadata": {},
   "source": [
    "#### Probability of testing a sufferer with a positive result (Thripshaw's correctly diagnosed)"
   ]
  },
  {
   "cell_type": "code",
   "execution_count": 2,
   "metadata": {},
   "outputs": [
    {
     "name": "stdout",
     "output_type": "stream",
     "text": [
      "The probability was given, which is 98.0%\n"
     ]
    }
   ],
   "source": [
    "print('The probability was given, which is {}%'.\n",
    "      format(p_pos_sufferer*100))"
   ]
  },
  {
   "cell_type": "markdown",
   "metadata": {},
   "source": [
    "#### Probability of testing a non-sufferer with a negative result (No diagnosis is correct)"
   ]
  },
  {
   "cell_type": "code",
   "execution_count": 3,
   "metadata": {},
   "outputs": [
    {
     "name": "stdout",
     "output_type": "stream",
     "text": [
      "The probability was implied, which is the inverse of the false positive probability of 10%. Therefore it is 90.0%\n"
     ]
    }
   ],
   "source": [
    "print('The probability was implied, which is the inverse of the'\n",
    "      ' false positive probability of 10%. Therefore it is {}%'.\n",
    "      format(100*(1-p_pos_non_sufferer)))"
   ]
  },
  {
   "cell_type": "markdown",
   "metadata": {},
   "source": [
    "#### Calculate the probability of incorrect diagnosis"
   ]
  },
  {
   "cell_type": "code",
   "execution_count": 4,
   "metadata": {},
   "outputs": [
    {
     "name": "stdout",
     "output_type": "stream",
     "text": [
      "The probability of running the test on someone in the population and getting a negative test is 9.96%\n"
     ]
    }
   ],
   "source": [
    "# total negative test calculation\n",
    "# P((sufferer and negative| sufferer)\n",
    "# or\n",
    "# (non-sufferer and negative| non-sufferer))\n",
    "print('The probability of running the test on someone in the population'\n",
    "      ' and getting a negative test is {}%'.format(100*((p_sufferer*\n",
    "      p_neg_sufferer) + p_non_sufferer* p_pos_non_sufferer)))"
   ]
  }
 ],
 "metadata": {
  "kernelspec": {
   "display_name": "Python 3",
   "language": "python",
   "name": "python3"
  },
  "language_info": {
   "codemirror_mode": {
    "name": "ipython",
    "version": 3
   },
   "file_extension": ".py",
   "mimetype": "text/x-python",
   "name": "python",
   "nbconvert_exporter": "python",
   "pygments_lexer": "ipython3",
   "version": "3.6.3"
  }
 },
 "nbformat": 4,
 "nbformat_minor": 2
}
