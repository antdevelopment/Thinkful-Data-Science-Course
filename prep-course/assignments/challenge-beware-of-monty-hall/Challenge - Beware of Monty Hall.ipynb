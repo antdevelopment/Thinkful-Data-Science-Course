{
 "cells": [
  {
   "cell_type": "markdown",
   "metadata": {},
   "source": [
    "#### One of the classic problems in this space is referred to as the Monty Hall Problem. Some people even use this as an interview question! It is deceptively simple, and really digging into it reveals a myriad of approaches and some serious applications of conditional probability. The story goes like this:\n",
    "\n",
    "You are on a game show and given the choice of whatever is behind three doors. Behind one door is a fantastic prize (some examples use a car, others use cash) while behind the other two doors is a dud (some examples say a goat, others say it's just empty). You pick a door. Then the host opens one of the other two doors to reveal a dud. But here's the wrinkle: the host now gives you the opportunity to switch your door. What should you do?\n",
    "\n",
    "##### Write up some notes on this problem, including how you think Bayes' Rule might apply. Drop a link to your notes below and discuss it with your mentor."
   ]
  },
  {
   "cell_type": "code",
   "execution_count": 4,
   "metadata": {
    "collapsed": true
   },
   "outputs": [],
   "source": [
    "import numpy as np"
   ]
  },
  {
   "cell_type": "markdown",
   "metadata": {},
   "source": [
    "In the Monty Hall problem, the beginning starts with a probability of 1/3 for the prize and 2/3 for the dud. The host will always reveal a dud, which is a condition that helps us calculate these odds. It is a condition we can count on. There does appear to be a way to use Bayes' Rule. The calculation seems to not depend on one person's choice, but the player, then the host.\n",
    "\n",
    "In calculating the Bayes' probabilities, we have to think about the combination of outcomes and it helps me to have a point of reference. Therefore, the player will always choose door 2. The player's probability is the chance of the correct door choice and the host's probability is the chance a door is chosen. The host's choice is conditioned on the player's choice.\n",
    "\n",
    "1. Car is behind door 1\n",
    "    * Player chooses door 2.\n",
    "    * Host has only one door to chose to reveal dud - door 3.\n",
    "    * Player wins if he changes.\n",
    "\n",
    "2. Car is behind door 2\n",
    "    * Player chooses door 2.\n",
    "    * Host has a choice to pick either door 1 or 3.\n",
    "    * Player wins if stays.\n",
    "    \n",
    "3. Car is behind door 3\n",
    "    * Player chooses door 2.\n",
    "    * Host has only one door to chose to reveal dud - door 1.\n",
    "    * Player wins if he changes.\n",
    "    \n",
    "As we can see, the player has more opportunity to win when he changes doors. It's the same for whichever door is chosen, so it's like the coin example from the probability exercise. There is no reason to combine the probabilities of the player's door choices."
   ]
  },
  {
   "cell_type": "code",
   "execution_count": 2,
   "metadata": {},
   "outputs": [],
   "source": [
    "# A = player's independent choice of door 2\n",
    "# B1, B3 = Host's door choice conditional on player choosing door 2\n",
    "# D1, D2, D3 = Car's door location, independent of player's and host's\n",
    "# choices\n",
    "\n",
    "# Car's location probabilities given the player's choice. However these\n",
    "# equal the probability of the car's location since it is independent e.g\n",
    "# P(D1| A)\n",
    "p_D1_A, p_D2_A, p_D3_A= 1/3, 1/3, 1/3\n",
    "\n",
    "# Probability of host choosing door 3 given player's choice of door 2\n",
    "# and the 3 possible car locations e.g. P(B3| D1, A)\n",
    "p_B3_D1andA = 1\n",
    "p_B3_D2andA = 1/2\n",
    "p_B3_D3andA = 0"
   ]
  },
  {
   "cell_type": "markdown",
   "metadata": {},
   "source": [
    "###### 1st Scenario: Probability of player winning given that he switches his choice to door 1 P(D1| B3, A)\n",
    "P(D1| B3, A) = divide(P(B3|D1,A)*P(D1&A), P(B3&A))\n",
    "\n",
    "Per Bayes:\n",
    "P(B3 & A) = P(B3| D2, A) * P(D2 & A) + P(B3| D1, A) * P(D1 & A) + P(B3| D3, A) * P(D3 & A)\n",
    "\n",
    "Cancelling out the equal probabilities (sequence of independent events) of P(D1 & A) = P(D2 & A) = P(D3 & A) = 1/9 in numerator and denominator:\n",
    "\n",
    "P(D1| B3, A) = divide(P(B3|D1,A), P(B3|D2,A)+P(B3|D1,A)+P(B3|D3,A)"
   ]
  },
  {
   "cell_type": "code",
   "execution_count": 5,
   "metadata": {},
   "outputs": [
    {
     "name": "stdout",
     "output_type": "stream",
     "text": [
      "0.666666666667\n"
     ]
    }
   ],
   "source": [
    "p_D1_B3andA = np.divide(1, 1/2+1+0)\n",
    "print(p_D1_B3andA)"
   ]
  },
  {
   "cell_type": "markdown",
   "metadata": {},
   "source": [
    "This probability equals 2/3, the probability of scenario 1 or 3 happening, because it somehow captures the nature of the \"or\" in the situation!"
   ]
  },
  {
   "cell_type": "markdown",
   "metadata": {},
   "source": [
    "##### Links\n",
    "\n",
    "https://upload.wikimedia.org/wikipedia/commons/d/de/Monty_tree_door1.svg"
   ]
  }
 ],
 "metadata": {
  "kernelspec": {
   "display_name": "Python 3",
   "language": "python",
   "name": "python3"
  },
  "language_info": {
   "codemirror_mode": {
    "name": "ipython",
    "version": 3
   },
   "file_extension": ".py",
   "mimetype": "text/x-python",
   "name": "python",
   "nbconvert_exporter": "python",
   "pygments_lexer": "ipython3",
   "version": "3.6.3"
  }
 },
 "nbformat": 4,
 "nbformat_minor": 2
}
