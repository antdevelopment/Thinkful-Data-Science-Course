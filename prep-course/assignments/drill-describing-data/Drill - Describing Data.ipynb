{
 "cells": [
  {
   "cell_type": "markdown",
   "metadata": {},
   "source": [
    "#### Greg was 14, Marcia was 12, Peter was 11, Jan was 10, Bobby was 8, and Cindy was 6 when they started playing the Brady kids on The Brady Bunch. Cousin Oliver was 8 years old when he joined the show. What are the mean, median, and mode of the kids' ages when they first appeared on the show? What are the variance, standard deviation, and standard error?"
   ]
  },
  {
   "cell_type": "code",
   "execution_count": 1,
   "metadata": {
    "collapsed": true
   },
   "outputs": [],
   "source": [
    "import numpy as np\n",
    "import pandas as pd\n",
    "import matplotlib.pyplot as plt"
   ]
  },
  {
   "cell_type": "code",
   "execution_count": 36,
   "metadata": {},
   "outputs": [
    {
     "name": "stdout",
     "output_type": "stream",
     "text": [
      "mean: 9.857142857142858\n",
      "median: 10.0\n",
      "mode: 8\n",
      "variance: 6.408163265306122\n",
      "standard deviation: 2.531435020952764\n",
      "standard error: 1.03345401972\n"
     ]
    }
   ],
   "source": [
    "# Create data frame of the kids\n",
    "names = ['Greg', 'Marcia', 'Peter', 'Jan', 'Bobby', 'Cindy', 'Oliver']\n",
    "brady_kids = pd.DataFrame(columns=['age'], index=names)\n",
    "brady_kids['age'] = [14, 12, 11, 10, 8, 6, 8]\n",
    "\n",
    "# Summary Statistics\n",
    "print('mean:', brady_kids.age.mean())\n",
    "print('median:', brady_kids.age.median())\n",
    "print('mode:', brady_kids.age.mode()[0])\n",
    "print('variance:', brady_kids.age.var(ddof=0))\n",
    "print('standard deviation:', brady_kids.age.std(ddof=0))\n",
    "print('standard error:', brady_kids.age.sem(ddof=1))"
   ]
  },
  {
   "cell_type": "markdown",
   "metadata": {},
   "source": [
    "#### Using these estimates, if you had to choose only one estimate of central tendency and one estimate of variance to describe the data, which would you pick and why?"
   ]
  },
  {
   "cell_type": "markdown",
   "metadata": {},
   "source": [
    "I would choose median and standard deviation.\n",
    "\n",
    "I chose to use the median because the original prompt mentions whole-number ages, therefore using relatively less accurate estimates. More importantly, the useful mathematical properties of the mean are not needed here because I am working with the population and don't need to infer the measure of central tendency.\n",
    "\n",
    "I chose to use standard deviation because the mean was close to the median so this common measure of variance will be a sufficient metric."
   ]
  },
  {
   "cell_type": "markdown",
   "metadata": {},
   "source": [
    "#### Next, Cindy has a birthday. Update your estimates- what changed, and what didn't?"
   ]
  },
  {
   "cell_type": "code",
   "execution_count": 37,
   "metadata": {},
   "outputs": [
    {
     "name": "stdout",
     "output_type": "stream",
     "text": [
      "mean: 10.0\n",
      "median: 10.0\n",
      "mode: 8\n",
      "variance: 5.428571428571429\n",
      "standard deviation: 2.32992949004287\n",
      "standard error: 0.951189731211\n"
     ]
    }
   ],
   "source": [
    "# Updating Cindy's age to 7\n",
    "brady_kids.loc['Cindy', 'age'] = 7\n",
    "print('mean:', brady_kids.age.mean())\n",
    "print('median:', brady_kids.age.median())\n",
    "print('mode:', brady_kids.age.mode()[0])\n",
    "print('variance:', brady_kids.age.var(ddof=0))\n",
    "print('standard deviation:', brady_kids.age.std(ddof=0))\n",
    "print('standard error:', brady_kids.age.sem(ddof=1))"
   ]
  },
  {
   "cell_type": "markdown",
   "metadata": {},
   "source": [
    "The estimates that decreased were the variance, standard deviation and standard error given that Cindy's birthday caused her age to be closer to the central tendency and the other ages. The mean is the estimate that increased given Cindy's older age, though everyone aged the same fraction of the year. The estimates that stayed the same were the median and the mode given the same number of children measured and Cindy's birthday did not disturb the mode calculation."
   ]
  },
  {
   "cell_type": "markdown",
   "metadata": {},
   "source": [
    "#### Nobody likes Cousin Oliver. Maybe the network should have used an even younger actor. Replace Cousin Oliver with 1-year-old Jessica, then recalculate again. Does this change your choice of central tendency or variance estimation methods?"
   ]
  },
  {
   "cell_type": "code",
   "execution_count": 38,
   "metadata": {},
   "outputs": [
    {
     "data": {
      "text/html": [
       "<div>\n",
       "<style>\n",
       "    .dataframe thead tr:only-child th {\n",
       "        text-align: right;\n",
       "    }\n",
       "\n",
       "    .dataframe thead th {\n",
       "        text-align: left;\n",
       "    }\n",
       "\n",
       "    .dataframe tbody tr th {\n",
       "        vertical-align: top;\n",
       "    }\n",
       "</style>\n",
       "<table border=\"1\" class=\"dataframe\">\n",
       "  <thead>\n",
       "    <tr style=\"text-align: right;\">\n",
       "      <th></th>\n",
       "      <th>age</th>\n",
       "    </tr>\n",
       "  </thead>\n",
       "  <tbody>\n",
       "    <tr>\n",
       "      <th>Greg</th>\n",
       "      <td>14</td>\n",
       "    </tr>\n",
       "    <tr>\n",
       "      <th>Marcia</th>\n",
       "      <td>12</td>\n",
       "    </tr>\n",
       "    <tr>\n",
       "      <th>Peter</th>\n",
       "      <td>11</td>\n",
       "    </tr>\n",
       "    <tr>\n",
       "      <th>Jan</th>\n",
       "      <td>10</td>\n",
       "    </tr>\n",
       "    <tr>\n",
       "      <th>Bobby</th>\n",
       "      <td>8</td>\n",
       "    </tr>\n",
       "    <tr>\n",
       "      <th>Cindy</th>\n",
       "      <td>7</td>\n",
       "    </tr>\n",
       "  </tbody>\n",
       "</table>\n",
       "</div>"
      ],
      "text/plain": [
       "        age\n",
       "Greg     14\n",
       "Marcia   12\n",
       "Peter    11\n",
       "Jan      10\n",
       "Bobby     8\n",
       "Cindy     7"
      ]
     },
     "execution_count": 38,
     "metadata": {},
     "output_type": "execute_result"
    }
   ],
   "source": [
    "# Removing Oliver\n",
    "brady_kids = brady_kids.drop('Oliver')\n",
    "brady_kids"
   ]
  },
  {
   "cell_type": "code",
   "execution_count": 29,
   "metadata": {},
   "outputs": [
    {
     "name": "stdout",
     "output_type": "stream",
     "text": [
      "mean: 9.0\n",
      "median: 10.0\n",
      "mode: 1.0\n",
      "variance: 15.428571428571429\n",
      "standard deviation: 3.927922024247863\n",
      "standard error: 1.60356745147\n"
     ]
    }
   ],
   "source": [
    "# Adding Jessica and recalculating\n",
    "brady_kids.loc['Jessica', 'age'] = 1\n",
    "print('mean:', brady_kids.age.mean())\n",
    "print('median:', brady_kids.age.median())\n",
    "print('mode:', brady_kids.age.mode()[0])\n",
    "print('variance:', brady_kids.age.var(ddof=0))\n",
    "print('standard deviation:', brady_kids.age.std(ddof=0))\n",
    "print('standard error:', brady_kids.age.sem(ddof=1))"
   ]
  },
  {
   "cell_type": "markdown",
   "metadata": {},
   "source": [
    "I would keep my measure of central tendency to the median to remove outlier effect of Jessica's age on ther mean. Before, the percent difference between the mean and median was only about 1.4%. But replacing Oliver with Jessica decreased the mean by about 8.7% and ballooned the percent difference to about 10%.\n",
    "\n",
    "I would keep my variance estimate of standard deviation."
   ]
  },
  {
   "cell_type": "markdown",
   "metadata": {},
   "source": [
    "#### On the 50th anniversary of The Brady Bunch, four different magazines asked their readers whether they were fans of the show. The answers were: TV Guide 20% fans Entertainment Weekly 23% fans Pop Culture Today 17% fans SciPhi Phanatic 5% fans\n",
    "#### Based on these numbers, what percentage of adult Americans would you estimate were Brady Bunch fans on the 50th anniversary of the show?"
   ]
  },
  {
   "cell_type": "markdown",
   "metadata": {},
   "source": [
    "Given that I am inferring the value of a variable, one of classification in this case, in the adult American population using this magazine reader sample, I will choose mean and standard error to estimate the percentage of adults. The SciPhi magazine is a niche market and isn't so representative of the population. Estimate using the other 3."
   ]
  },
  {
   "cell_type": "code",
   "execution_count": 51,
   "metadata": {},
   "outputs": [
    {
     "name": "stdout",
     "output_type": "stream",
     "text": [
      "mean: 20.0\n",
      "standard error: 1.73205080757\n",
      "The estimate for Brady Bunch fans during the 50th anniversary is between  18.2679491924 % and  21.7320508076 % of American adults.\n"
     ]
    }
   ],
   "source": [
    "# Create magazine data frame\n",
    "mags = ['TV Guide', 'Entertainment Weekly', 'Pop Culture', 'SciPhi']\n",
    "magazines = pd.DataFrame(columns=['fans %'], index=mags)\n",
    "magazines['fans %'] = [20, 23, 17, 5]\n",
    "\n",
    "# Calculating estimate with only the broad audience magazines\n",
    "broad_audience = magazines.loc[['TV Guide', 'Entertainment Weekly', 'Pop Culture'], 'fans %']\n",
    "print('mean:', broad_audience.mean())\n",
    "print('standard error:', broad_audience.sem(ddof=1))\n",
    "print('The estimate for Brady Bunch fans during the 50th anniversary is between ', broad_audience.mean()-broad_audience.sem(), '% and ', broad_audience.mean()+broad_audience.sem(), '% of American adults.')"
   ]
  },
  {
   "cell_type": "markdown",
   "metadata": {},
   "source": [
    "I should note that the major biases I can see in this estimate from the perspective of simple random sampling is that these magazines could not randomly sample from the whole adult population, the readers chose themselves, and we are estimating the fan % from aggregates."
   ]
  }
 ],
 "metadata": {
  "kernelspec": {
   "display_name": "Python 3",
   "language": "python",
   "name": "python3"
  },
  "language_info": {
   "codemirror_mode": {
    "name": "ipython",
    "version": 3
   },
   "file_extension": ".py",
   "mimetype": "text/x-python",
   "name": "python",
   "nbconvert_exporter": "python",
   "pygments_lexer": "ipython3",
   "version": "3.6.3"
  }
 },
 "nbformat": 4,
 "nbformat_minor": 2
}
